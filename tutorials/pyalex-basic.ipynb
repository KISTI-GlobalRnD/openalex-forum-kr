{
 "cells": [
  {
   "cell_type": "markdown",
   "metadata": {},
   "source": [
    "# PyAlex Basic (기초)",
    "\n",
    "본 노트북은 OpenAlex API의 파이썬 클라이언트인 **pyalex** 사용 기초를 다룹니다."
   ]
  },
  {
   "cell_type": "code",
   "execution_count": null,
   "metadata": {},
   "outputs": [],
   "source": [
    "# !pip install pyalex\n",
    "from pyalex import Works\n",
    "\n",
    "# 간단 검색 예시: AI 관련 최근 논문 5건 제목\n",
    "for w in Works().search(\"artificial intelligence\").sort(\"publication_year:desc\").paginate(per_page=5):\n",
    "    print(w.get('title'))"
   ]
  }
 ],
 "metadata": {
  "kernelspec": {
   "display_name": "Python 3",
   "language": "python",
   "name": "python3"
  },
  "language_info": {
   "name": "python",
   "version": "3.x"
  }
 },
 "nbformat": 4,
 "nbformat_minor": 5
}
